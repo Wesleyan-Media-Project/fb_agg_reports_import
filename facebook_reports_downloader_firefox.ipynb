{
  "cells": [
    {
      "cell_type": "code",
      "source": [
        "%%capture\n",
        "## !apt-get update\n",
        "!apt install firefox\n",
        "!pip install selenium"
      ],
      "metadata": {
        "id": "2sDx7YxeVSHy"
      },
      "execution_count": 1,
      "outputs": []
    },
    {
      "cell_type": "code",
      "source": [
        "from selenium import webdriver\n",
        "from selenium.webdriver.common.keys import Keys\n",
        "from selenium.webdriver.common.by import By\n",
        "from selenium.webdriver.common.desired_capabilities import DesiredCapabilities\n",
        "from selenium.webdriver.firefox.firefox_profile import FirefoxProfile\n",
        "from selenium.common.exceptions import NoSuchElementException\n",
        "from selenium.webdriver.common.by import By\n",
        "import time\n",
        "\n",
        "import pandas as pd\n",
        "import numpy as np\n",
        "import datetime as dt\n",
        "\n",
        "import sys\n"
      ],
      "metadata": {
        "id": "UXRzpnp7Vfxu"
      },
      "execution_count": 42,
      "outputs": []
    },
    {
      "cell_type": "code",
      "source": [
        "# Set up Firefox options\n",
        "user_agent = 'Mozilla/5.0 (Macintosh; Intel Mac OS X 10_14_6) AppleWebKit/605.1.15 (KHTML, like Gecko) Version/14.1.2 Safari/605.1.15,gzip(gfe)'\n",
        "\n",
        "options = webdriver.FirefoxOptions()\n",
        "options.add_argument('--headless')\n",
        "options.add_argument(f'user-agent={user_agent}')\n",
        "\n",
        "# Set up desired capabilities\n",
        "capabilities = DesiredCapabilities.FIREFOX.copy()\n",
        "capabilities['acceptInsecureCerts'] = True\n",
        "\n",
        "## some explanations of Firefox profile here: https://www.browserstack.com/guide/download-file-using-selenium-python\n",
        "## and here: https://www.browserstack.com/docs/automate/selenium/firefox-profile#python\n",
        "## official Mozilla documentation for Firefox profile: https://support.mozilla.org/en-US/kb/profile-manager-create-remove-switch-firefox-profiles\n",
        "profile = FirefoxProfile()\n",
        "profile.set_preference('browser.download.folderList', 2) # Save downloads to the desktop\n",
        "profile.set_preference('browser.download.manager.showWhenStarting', False) # Don't show the download manager\n",
        "profile.set_preference('browser.download.dir', '/content') # Set the download directory\n",
        "profile.set_preference('browser.helperApps.neverAsk.saveToDisk', 'application/zip') # Set the MIME type of the file to download\n",
        "\n",
        "# Initialize Firefox driver with options and capabilities\n",
        "driver = webdriver.Firefox(options=options, capabilities=capabilities, firefox_profile=profile)\n",
        "\n"
      ],
      "metadata": {
        "colab": {
          "base_uri": "https://localhost:8080/"
        },
        "id": "zDi3sYQJVqMp",
        "outputId": "841d5b50-818a-4975-f3e5-fd9ce833dbdc"
      },
      "execution_count": 43,
      "outputs": [
        {
          "output_type": "stream",
          "name": "stderr",
          "text": [
            "<ipython-input-43-e5dfd6b4dac8>:15: DeprecationWarning: firefox_profile has been deprecated, please use an Options object\n",
            "  profile = FirefoxProfile()\n",
            "<ipython-input-43-e5dfd6b4dac8>:22: DeprecationWarning: capabilities and desired_capabilities have been deprecated, please pass in a Service object\n",
            "  driver = webdriver.Firefox(options=options, capabilities=capabilities, firefox_profile=profile)\n",
            "<ipython-input-43-e5dfd6b4dac8>:22: DeprecationWarning: firefox_profile has been deprecated, please pass in an Options object\n",
            "  driver = webdriver.Firefox(options=options, capabilities=capabilities, firefox_profile=profile)\n"
          ]
        }
      ]
    },
    {
      "cell_type": "code",
      "source": [
        "\n",
        "driver.get(\"https://www.facebook.com/ads/library/report/?source=archive-landing-page&country=US\")\n",
        "time.sleep(15)\n",
        "driver.save_screenshot(\"first_screen.png\")\n",
        "\n",
        "tabs = ['All dates', 'Last 90 days', 'Last 30 days', 'Last 7 days' , 'Last day']\n",
        "dl_folders = ['', '', '', '', '']\n",
        "\n",
        "dl_df = pd.DataFrame({'tab': tabs, 'folder': dl_folders})\n",
        "\n",
        "## scroll to the bottom of the page\n",
        "driver.execute_script(\"window.scrollTo(0,document.body.scrollHeight)\")\n",
        "time.sleep(10)\n",
        "\n",
        "## webdriver.ActionChains(driver).send_keys(Keys.CONTROL, Keys.END).perform()\n",
        "\n",
        "## find the drop-down list\n",
        "\n",
        "driver.save_screenshot(\"second_screen.png\")\n",
        "tab = driver.find_elements(by=By.XPATH, value = \"//div[contains(text(), 'Time range')]/following-sibling::div\")\n",
        "\n",
        "if len(tab) == 0:\n",
        "  print(\"The time range element not found\")\n"
      ],
      "metadata": {
        "id": "k1QZQTdrTv3S"
      },
      "execution_count": 44,
      "outputs": []
    },
    {
      "cell_type": "code",
      "source": [
        "for k in range(dl_df.shape[0]):\n",
        "  xpath_tab = dl_df['tab'][k]\n",
        "  print(xpath_tab)\n",
        "  ## open the menu\n",
        "  webdriver.ActionChains(driver).move_to_element(tab[0]).perform()\n",
        "  time.sleep(2)\n",
        "  webdriver.ActionChains(driver).click(tab[0]).perform()\n",
        "  time.sleep(5)\n",
        "  driver.save_screenshot(\"third_screen.png\")\n",
        "\n",
        "  ## select the item\n",
        "  ## menu_item = driver.find_elements(by=By.XPATH, value = \"//div[contains(@role, 'menu')]/descendant::div[contains(text(), 'All dates')]\")\n",
        "  menu_item = driver.find_elements(by=By.XPATH, value = \"//div[contains(@role, 'menu')]/descendant::div[contains(text(), '{}')]\".format(xpath_tab) )\n",
        "  if len(menu_item) == 0:\n",
        "    print(\"menu item not found\")\n",
        "    break\n",
        "\n",
        "  webdriver.ActionChains(driver).move_to_element(menu_item[0]).perform()\n",
        "  webdriver.ActionChains(driver).click(menu_item[0]).perform()  \n",
        "  webdriver.ActionChains(driver).reset_actions()\n",
        "  driver.save_screenshot(\"fourth_screen.png\")\n",
        "  #continue\n",
        "\n",
        "\n",
        "  webdriver.ActionChains(driver).reset_actions()\n",
        "\n",
        "  try:\n",
        "      ## locate the download button\n",
        "      button = driver.find_elements(by = By.XPATH, value=\"//div[contains(translate(text(), 'DR', 'dr'), 'download report')]/parent::a\")\n",
        "      ## second_button = button[1]\n",
        "      if len(button) == 1:\n",
        "        second_button = button[0]\n",
        "      else:\n",
        "        second_button = button[1]\n",
        "\n",
        "      ## move the focus onto the button\n",
        "      webdriver.ActionChains(driver).move_to_element(second_button).perform()\n",
        "      time.sleep(2)\n",
        "\n",
        "      ## click on the button to initiate the download\n",
        "      webdriver.ActionChains(driver).click(second_button).perform()\n",
        "      time.sleep(15)\n",
        "\n",
        "  except NoSuchElementException:\n",
        "      print('Download report button not found for' + xpath_tab + ' tab')\n",
        "      ## driver.close()\n",
        "      ## driver.quit()\n"
      ],
      "metadata": {
        "colab": {
          "base_uri": "https://localhost:8080/"
        },
        "id": "JgZ1W8J8uGrT",
        "outputId": "2b1de192-b61a-4a8d-9ea9-d25e9546c0db"
      },
      "execution_count": 45,
      "outputs": [
        {
          "output_type": "stream",
          "name": "stdout",
          "text": [
            "All dates\n",
            "Last 90 days\n",
            "Last 30 days\n",
            "Last 7 days\n",
            "Last day\n"
          ]
        }
      ]
    },
    {
      "cell_type": "code",
      "source": [
        "driver.close()\n",
        "driver.quit()"
      ],
      "metadata": {
        "id": "uovkHTWejxPM"
      },
      "execution_count": 46,
      "outputs": []
    },
    {
      "cell_type": "code",
      "source": [
        "webdriver.ActionChains(driver).move_to_element(tab[0]).perform()\n",
        "time.sleep(2)\n",
        "\n",
        "## click on the tab\n",
        "webdriver.ActionChains(driver).click(tab[0]).perform()\n",
        "time.sleep(5)\n",
        "driver.save_screenshot(\"third_screen.png\")\n"
      ],
      "metadata": {
        "colab": {
          "base_uri": "https://localhost:8080/"
        },
        "id": "oXJ8Ahu61j85",
        "outputId": "b79d685d-13b9-44b2-88c2-8b386bb9d7c9"
      },
      "execution_count": null,
      "outputs": [
        {
          "output_type": "execute_result",
          "data": {
            "text/plain": [
              "True"
            ]
          },
          "metadata": {},
          "execution_count": 33
        }
      ]
    },
    {
      "cell_type": "code",
      "source": [
        "menu_item = driver.find_elements(by=By.XPATH, value = \"//div[contains(@role, 'menu')]/descendant::div[contains(text(), 'All dates')]\")\n",
        "for m in menu_item:\n",
        "  print(m.location)\n",
        "  print(m.size)\n",
        "  print(m.is_displayed())"
      ],
      "metadata": {
        "id": "pJE36q8czAlt"
      },
      "execution_count": null,
      "outputs": []
    }
  ],
  "metadata": {
    "colab": {
      "provenance": []
    },
    "kernelspec": {
      "display_name": "Python 3",
      "name": "python3"
    }
  },
  "nbformat": 4,
  "nbformat_minor": 0
}